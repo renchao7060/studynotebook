{
 "cells": [
  {
   "cell_type": "markdown",
   "metadata": {},
   "source": [
    "# 实例练习"
   ]
  },
  {
   "cell_type": "code",
   "execution_count": 1,
   "metadata": {},
   "outputs": [
    {
     "name": "stdout",
     "output_type": "stream",
     "text": [
      "<class 'list'> <class 'dict'> <class 'bool'>\n",
      "True\n"
     ]
    }
   ],
   "source": [
    "'''\n",
    "Python自省\n",
    "这个也是python彪悍的特性.\n",
    "自省就是面向对象的语言所写的程序在运行时,所能知道对象的类型.简单一句就是运行时能够获得对象的类型.\n",
    "比如type(),dir(),getattr(),hasattr(),isinstance().\n",
    "'''\n",
    "a = [1,2,3]\n",
    "b = {'a':1,'b':2,'c':3}\n",
    "c = True\n",
    "print (type(a),type(b),type(c) )\n",
    "print (isinstance(a,list))"
   ]
  },
  {
   "cell_type": "code",
   "execution_count": 3,
   "metadata": {},
   "outputs": [
    {
     "name": "stdout",
     "output_type": "stream",
     "text": [
      "\n"
     ]
    }
   ],
   "source": [
    "#在 Python 控制台，不论何时我们测试一个表达式或者调用一个方法，结果都会分配给一个临时变量： _（一个下划线）\n",
    "2+1\n",
    "print(_)"
   ]
  },
  {
   "cell_type": "code",
   "execution_count": 6,
   "metadata": {},
   "outputs": [],
   "source": [
    "# Python 允许运行一个 HTTP 服务器来从根路径共享文件，下面是开启服务器的命令：\n",
    "# # Python 2\n",
    "#     python -m SimpleHTTPServer\n",
    "\n",
    "\n",
    "# # Python 3\n",
    "#     python -m http.server\n",
    "\n",
    "# 上面的命令会在默认端口也就是 8000 开启一个服务器，你可以将一个自定义的端口号以最后一个参数的方式传递到上面的命令中。\n",
    "\n",
    "# python -m pdb my_script.py"
   ]
  },
  {
   "cell_type": "code",
   "execution_count": 15,
   "metadata": {},
   "outputs": [
    {
     "name": "stdout",
     "output_type": "stream",
     "text": [
      "A a\n",
      "B b\n",
      "C c\n"
     ]
    },
    {
     "data": {
      "text/plain": [
       "[None, None, None]"
      ]
     },
     "execution_count": 15,
     "metadata": {},
     "output_type": "execute_result"
    }
   ],
   "source": [
    "#zip函数\n",
    "uppercase=['A','B','C']\n",
    "lowercase=['a','b','c']\n",
    "\n",
    "[print(i,j) for i,j in zip(uppercase,lowercase)]"
   ]
  },
  {
   "cell_type": "code",
   "execution_count": 12,
   "metadata": {},
   "outputs": [
    {
     "name": "stdout",
     "output_type": "stream",
     "text": [
      "A a\n",
      "B b\n",
      "C c\n",
      "C\n"
     ]
    }
   ],
   "source": [
    "#zip函数\n",
    "uppercase=['A','B','C']\n",
    "lowercase=['a','b','c']\n",
    "for i,j in zip(uppercase,lowercase):\n",
    "    print(i,j)\n",
    "print(i)"
   ]
  },
  {
   "cell_type": "code",
   "execution_count": 26,
   "metadata": {},
   "outputs": [
    {
     "name": "stdout",
     "output_type": "stream",
     "text": [
      "(1, 2, 3, 4)\n",
      "(11, 12, 13, 14)\n",
      "[]\n"
     ]
    }
   ],
   "source": [
    "#zip函数-在某些情况下，我们需要执行相反的操作——解压迭代器。解压操作涉及将压缩后的元素恢复为其原始状态。\n",
    "# 为此，我们添加*运算符到函数调用中。例：\n",
    "a1=[1,2,3,4]\n",
    "b1=[11,12,13,14]\n",
    "zipped=zip(a1,b1)\n",
    "\n",
    "a2,b2=zip(*zipped)\n",
    "print(a2)\n",
    "print(b2)\n",
    "print(list(zipped))"
   ]
  },
  {
   "cell_type": "code",
   "execution_count": 8,
   "metadata": {},
   "outputs": [
    {
     "name": "stdout",
     "output_type": "stream",
     "text": [
      "[(1, 10), (2, 20), (3, 30)]\n",
      "{1: 10, 2: 20, 3: 30}\n",
      "[('D', '4'), ('T', '9'), ('W', '0'), ('Z', '1'), ('H', '2')]\n",
      "{9: 'Z', 4: 'W', 10: 'H'}\n"
     ]
    }
   ],
   "source": [
    "#从两个相关的序列构建一个字典\n",
    "t1=[1,2,3]\n",
    "t2=[10,20,30]\n",
    "print(list(zip(t1,t2)))\n",
    "print(dict(zip(t1,t2)))\n",
    "import random\n",
    "import string\n",
    "list1=[random.randint(1,10) for _ in range(5)]\n",
    "list2=random.sample(string.ascii_uppercase,5)\n",
    "list3=random.sample(string.digits,5)\n",
    "\n",
    "print(list(zip(list2,list3)))\n",
    "print(dict(zip(list1,list2)))"
   ]
  },
  {
   "cell_type": "code",
   "execution_count": 3,
   "metadata": {},
   "outputs": [
    {
     "name": "stdout",
     "output_type": "stream",
     "text": [
      "True\n",
      "True\n"
     ]
    }
   ],
   "source": [
    "#一行代码搜索字符串的多个前后缀\n",
    "print(\"http://www.google.com\".startswith((\"http://\",\"https://\")))\n",
    "print(\"http://www.google.com\".endswith((\".com\",\".co.uk\")))"
   ]
  },
  {
   "cell_type": "code",
   "execution_count": 3,
   "metadata": {},
   "outputs": [
    {
     "name": "stdout",
     "output_type": "stream",
     "text": [
      "[['1*1=1'], ['1*2=2', '2*2=4'], ['1*3=3', '2*3=6', '3*3=9'], ['1*4=4', '2*4=8', '3*4=12', '4*4=16'], ['1*5=5', '2*5=10', '3*5=15', '4*5=20', '5*5=25'], ['1*6=6', '2*6=12', '3*6=18', '4*6=24', '5*6=30', '6*6=36'], ['1*7=7', '2*7=14', '3*7=21', '4*7=28', '5*7=35', '6*7=42', '7*7=49'], ['1*8=8', '2*8=16', '3*8=24', '4*8=32', '5*8=40', '6*8=48', '7*8=56', '8*8=64'], ['1*9=9', '2*9=18', '3*9=27', '4*9=36', '5*9=45', '6*9=54', '7*9=63', '8*9=72', '9*9=81']]\n",
      "['1*1=1', '1*2=2  2*2=4', '1*3=3  2*3=6  3*3=9', '1*4=4  2*4=8  3*4=12  4*4=16', '1*5=5  2*5=10  3*5=15  4*5=20  5*5=25', '1*6=6  2*6=12  3*6=18  4*6=24  5*6=30  6*6=36', '1*7=7  2*7=14  3*7=21  4*7=28  5*7=35  6*7=42  7*7=49', '1*8=8  2*8=16  3*8=24  4*8=32  5*8=40  6*8=48  7*8=56  8*8=64', '1*9=9  2*9=18  3*9=27  4*9=36  5*9=45  6*9=54  7*9=63  8*9=72  9*9=81']\n",
      "1*1=1\n",
      "1*2=2  2*2=4\n",
      "1*3=3  2*3=6  3*3=9\n",
      "1*4=4  2*4=8  3*4=12  4*4=16\n",
      "1*5=5  2*5=10  3*5=15  4*5=20  5*5=25\n",
      "1*6=6  2*6=12  3*6=18  4*6=24  5*6=30  6*6=36\n",
      "1*7=7  2*7=14  3*7=21  4*7=28  5*7=35  6*7=42  7*7=49\n",
      "1*8=8  2*8=16  3*8=24  4*8=32  5*8=40  6*8=48  7*8=56  8*8=64\n",
      "1*9=9  2*9=18  3*9=27  4*9=36  5*9=45  6*9=54  7*9=63  8*9=72  9*9=81\n"
     ]
    }
   ],
   "source": [
    "#乘法口诀-join使用\n",
    "list1=[[\"%d*%d=%d\"%(j,i,j*i) for j in range(1,i+1)] for i in range(1,10)]\n",
    "print(list1)\n",
    "list2=['  '.join([\"%d*%d=%d\"%(j,i,j*i) for j in range(1,i+1)]) for i in range(1,10)]\n",
    "print(list2)\n",
    "str1='\\n'.join(['  '.join([\"%d*%d=%d\"%(j,i,j*i) for j in range(1,i+1)]) for i in range(1,10)])\n",
    "print(str1)"
   ]
  },
  {
   "cell_type": "code",
   "execution_count": 1,
   "metadata": {},
   "outputs": [
    {
     "name": "stdout",
     "output_type": "stream",
     "text": [
      "1*1=1\t\n",
      "1*2=2\t2*2=4\t\n",
      "1*3=3\t2*3=6\t3*3=9\t\n",
      "1*4=4\t2*4=8\t3*4=12\t4*4=16\t\n",
      "1*5=5\t2*5=10\t3*5=15\t4*5=20\t5*5=25\t\n",
      "1*6=6\t2*6=12\t3*6=18\t4*6=24\t5*6=30\t6*6=36\t\n",
      "1*7=7\t2*7=14\t3*7=21\t4*7=28\t5*7=35\t6*7=42\t7*7=49\t\n",
      "1*8=8\t2*8=16\t3*8=24\t4*8=32\t5*8=40\t6*8=48\t7*8=56\t8*8=64\t\n",
      "1*9=9\t2*9=18\t3*9=27\t4*9=36\t5*9=45\t6*9=54\t7*9=63\t8*9=72\t9*9=81\t\n"
     ]
    }
   ],
   "source": [
    "#乘法口诀-for循环\n",
    "for i in range(1,10):\n",
    "    for j in range(1,i+1):\n",
    "        print(\"%d*%d=%d\\t\"%(j,i,j*i),end='')\n",
    "    print('\\n',end='')"
   ]
  },
  {
   "cell_type": "code",
   "execution_count": 2,
   "metadata": {},
   "outputs": [
    {
     "name": "stdout",
     "output_type": "stream",
     "text": [
      "1*1=1\t\n",
      "1*2=2\t2*2=4\t\n",
      "1*3=3\t2*3=6\t3*3=9\t\n",
      "1*4=4\t2*4=8\t3*4=12\t4*4=16\t\n",
      "1*5=5\t2*5=10\t3*5=15\t4*5=20\t5*5=25\t\n",
      "1*6=6\t2*6=12\t3*6=18\t4*6=24\t5*6=30\t6*6=36\t\n",
      "1*7=7\t2*7=14\t3*7=21\t4*7=28\t5*7=35\t6*7=42\t7*7=49\t\n",
      "1*8=8\t2*8=16\t3*8=24\t4*8=32\t5*8=40\t6*8=48\t7*8=56\t8*8=64\t\n",
      "1*9=9\t2*9=18\t3*9=27\t4*9=36\t5*9=45\t6*9=54\t7*9=63\t8*9=72\t9*9=81\t\n"
     ]
    }
   ],
   "source": [
    "#乘法口诀-for循环\n",
    "'''\n",
    "Python中的print函数大家都知道是打印字符串或者数字到控制台中。但是很多人可能会忽略他的另外两个参数seq和end。\n",
    "    seq：分隔符，默认是空格。\n",
    "    end：结束符，默认是换行。\n",
    "'''\n",
    "for i in range(1,10):\n",
    "    for j in range(1,i+1):\n",
    "        print(\"%d*%d=%d\"%(j,i,j*i),end='\\t')\n",
    "    print('')"
   ]
  },
  {
   "cell_type": "code",
   "execution_count": 4,
   "metadata": {},
   "outputs": [
    {
     "name": "stdout",
     "output_type": "stream",
     "text": [
      "################################################################################"
     ]
    }
   ],
   "source": [
    "# 进度条模拟-方式1\n",
    "import sys,time\n",
    "for i in range(40):\n",
    "    sys.stdout.write(\"##\")\n",
    "    sys.stdout.flush()\n",
    "    time.sleep(0.1)"
   ]
  },
  {
   "cell_type": "code",
   "execution_count": null,
   "metadata": {},
   "outputs": [],
   "source": [
    "# MapReduce模拟\n",
    "from functools import reduce\n",
    "str1='1-2-3-4-5-6-7'\n",
    "list1=str1.split('-')\n",
    "print('数据Split分片处理为：',list1)\n",
    "list2=list(map(int,list1))\n",
    "print('数据Map处理后为:',list2)\n",
    "\n",
    "data=reduce(lambda x,y:x+y,list2)\n",
    "print('数据Reduce处理后为:',data)\n"
   ]
  },
  {
   "cell_type": "code",
   "execution_count": 1,
   "metadata": {},
   "outputs": [
    {
     "name": "stdout",
     "output_type": "stream",
     "text": [
      "C:\\Users\\Administrator\\Documents\\code_practice\\jupyter\n",
      "C:\\Users\\Administrator\\Documents\\code_practice\\jupyter\\test\n"
     ]
    }
   ],
   "source": [
    "#获取当前文件路径,生成新路径\n",
    "import os,inspect\n",
    "inspect.currentframe()\n",
    "inspect.getfile(inspect.currentframe())\n",
    "os.path.abspath(inspect.getfile(inspect.currentframe()))\n",
    "root=os.path.dirname(os.path.abspath(inspect.getfile(inspect.currentframe())))\n",
    "print(root)\n",
    "destination=os.path.join(root,'test')\n",
    "print(destination)\n"
   ]
  },
  {
   "cell_type": "code",
   "execution_count": 5,
   "metadata": {},
   "outputs": [
    {
     "name": "stdout",
     "output_type": "stream",
     "text": [
      "[2, 3, 2, 7, 1, 8, 5, 8, 4, 6, 1, 3, 9, 10, 1, 1, 4, 1, 1, 5, 8, 1, 9, 3, 3, 7, 2, 4, 8, 4, 4, 9, 8, 3, 7, 7, 1, 4, 10, 8, 10, 3, 5, 2, 1, 1, 9, 9, 9, 2, 7, 2, 7, 5, 8, 9, 3, 1, 10, 6, 10, 6, 3, 6, 7, 10, 2, 4, 7, 2, 4, 2, 2, 9, 6, 3, 1, 6, 3, 5, 6, 8, 2, 5, 5, 7, 8, 4, 3, 1, 8, 1, 7, 9, 1, 3, 4, 9, 7, 3]\n"
     ]
    },
    {
     "data": {
      "text/plain": [
       "{1: 15, 2: 11, 3: 13, 4: 10, 5: 7, 6: 7, 7: 11, 8: 10, 9: 10, 10: 6}"
      ]
     },
     "execution_count": 5,
     "metadata": {},
     "output_type": "execute_result"
    }
   ],
   "source": [
    "#获取列表中元素出现的次数-方式1\n",
    "import random\n",
    "array=[random.randint(1,10) for _ in range(100)]\n",
    "print(array)\n",
    "def all_list(arr):\n",
    "    result={}\n",
    "    for i in set(arr):\n",
    "        result[i]=array.count(i)\n",
    "    return result\n",
    "all_list(array)      "
   ]
  },
  {
   "cell_type": "code",
   "execution_count": 2,
   "metadata": {},
   "outputs": [
    {
     "data": {
      "text/plain": [
       "{4: 16, 9: 14, 10: 12, 7: 11, 1: 10, 6: 9, 2: 8, 5: 7, 8: 7, 3: 6}"
      ]
     },
     "execution_count": 2,
     "metadata": {},
     "output_type": "execute_result"
    }
   ],
   "source": [
    "#获取列表中元素出现的次数-方式2\n",
    "from collections import Counter\n",
    "import random\n",
    "\n",
    "array=[random.randint(1,10) for _ in range(100)]\n",
    "# c=Counter(array)\n",
    "# print(c.most_common())\n",
    "# list1=c.most_common()\n",
    "# result={}\n",
    "# for i,j in list1:\n",
    "#     result[i]=j\n",
    "#     print('数值%s:%s次\\t'%(i,j))\n",
    "# print(result)\n",
    "# # c.get(10)\n",
    "# # c.items()\n",
    "\n",
    "def data_count(arr):\n",
    "    result={}\n",
    "    for i,j in Counter(arr).most_common():\n",
    "        result[i]=j\n",
    "    return result\n",
    "data_count(array)"
   ]
  },
  {
   "cell_type": "code",
   "execution_count": null,
   "metadata": {},
   "outputs": [],
   "source": [
    "#json模块使用,用于字符串和python数据类型间进行转换，提供四个功能dumps,dump,loads,load\n",
    "# dumps 将数据通过特殊形式转化为所有语言都可以识别的字符串\n",
    "# dump 将数据通过特殊形式转化为所有语言都可以识别的字符串，并存入文件\n",
    "import json\n",
    "data={\"status\": \"OK\", \"count\": 2, \"results\": [{\"age\": 27, \"name\": \"Oz\", \"lactose_intolerant\": \"true\"}, {\"age\": 29, \"name\": \"Joe\", \"lactose_intolerant\": \"false\"}]}\n",
    "# print(data)\n",
    "print(type(data))#dict\n",
    "print(type(json.dumps(data))) #str\n",
    "# print(json.dumps(data))\n",
    "print(json.dumps(data,indent=4)) #indent 缩进\n",
    "\n",
    "import os,inspect\n",
    "root=os.path.dirname(os.path.abspath(inspect.getfile(inspect.currentframe)))\n",
    "print(root)\n",
    "des=os.path.join(root,'test123')\n",
    "print(des)\n",
    "\n",
    "with open(des,'w') as f:\n",
    "    json.dump(data,f)\n",
    "# with open('test01','r') as f:\n",
    "#     f.read()"
   ]
  },
  {
   "cell_type": "code",
   "execution_count": null,
   "metadata": {},
   "outputs": [],
   "source": [
    "import os\n",
    "import json\n",
    "print(os.path.abspath('__file__'))\n",
    "root=os.path.dirname(os.path.abspath('__file__'))\n",
    "print(root)\n",
    "\n",
    "data={\"status\": \"OK\", \"count\": 2, \"results\": [{\"age\": 27, \"name\": \"Oz\", \"lactose_intolerant\": \"true\"}, {\"age\": 29, \"name\": \"Joe\", \"lactose_intolerant\": \"false\"}]}\n",
    "# print(data)\n",
    "\n",
    "if not os.path.exists('testdir2'):\n",
    "    os.mkdir('testdir2')\n",
    "    des=os.path.join(root,'testdir2')\n",
    "    os.chdir(des)\n",
    "else:\n",
    "    des=os.path.join(root,'testdir2')\n",
    "    os.chdir(des)\n",
    "with open ('test01.txt','a') as f:\n",
    "    json.dump(data,f)\n",
    "\n",
    "os.chdir(os.path.dirname(os.getcwd()))\n",
    "print(os.getcwd())"
   ]
  },
  {
   "cell_type": "code",
   "execution_count": null,
   "metadata": {},
   "outputs": [],
   "source": [
    "import os\n",
    "import json\n",
    "data={\"status\": \"OK\", \"count\": 2, \"results\": [{\"age\": 27, \"name\": \"Oz\", \"lactose_intolerant\": \"true\"}, {\"age\": 29, \"name\": \"Joe\", \"lactose_intolerant\": \"false\"}]}\n",
    "# root=os.path.dirname(os.path.abspath(__file__))\n",
    "# print(root)\n",
    "print(os.getcwd())\n",
    "# os.chdir(root)\n",
    "# print(os.getcwd())\n",
    "\n",
    "\n",
    "if os.path.isdir('testdir2'):\n",
    "    os.chdir('testdir2')\n",
    "else:\n",
    "    os.mkdir('testdir2')\n",
    "    os.chdir('testdir2')\n",
    "with open ('test02.txt','a') as f:\n",
    "    json.dump(data,f)\n",
    "\n",
    "\n",
    "os.chdir(os.path.dirname(os.getcwd()))\n",
    "print(os.getcwd())\n"
   ]
  },
  {
   "cell_type": "code",
   "execution_count": null,
   "metadata": {},
   "outputs": [],
   "source": [
    "#列表推导式\n",
    "import random\n",
    "list1=[random.randint(1,10) for _ in range(100)]\n",
    "print(list1)\n",
    "list2=[x for x in list1 if x%2==0]\n",
    "even_list=set(list2)\n",
    "print(even_list)"
   ]
  },
  {
   "cell_type": "code",
   "execution_count": 12,
   "metadata": {},
   "outputs": [
    {
     "name": "stdout",
     "output_type": "stream",
     "text": [
      "{0: 'W', 1: 'O', 2: 'R', 3: 'L', 4: 'D'}\n"
     ]
    }
   ],
   "source": [
    "#字典推导式\n",
    "#d = {key: value for (key, value) in iterable}\n",
    "d={x:y for x,y in enumerate('WORLD')}\n",
    "print(d)"
   ]
  },
  {
   "cell_type": "code",
   "execution_count": null,
   "metadata": {},
   "outputs": [],
   "source": [
    "#字典推导式\n",
    "import random\n",
    "import string\n",
    "dict1={''.join(random.sample(string.ascii_uppercase,1)):random.randint(1,10) for _ in range(10)}\n",
    "print(dict1)\n",
    "dict2={x:x%2==0 for x in range(1,11)}\n",
    "print(dict2)"
   ]
  },
  {
   "cell_type": "code",
   "execution_count": 4,
   "metadata": {},
   "outputs": [
    {
     "name": "stdout",
     "output_type": "stream",
     "text": [
      "24.c8ba192e91b79a2f1a01cfd2a2a02792.2592000.1565965772.282335-16750319\n",
      "{\"error_code\":0,\"error_msg\":\"SUCCESS\",\"log_id\":305486833737727031,\"timestamp\":1563373772,\"cached\":0,\"result\":{\"score\":24.34640503,\"face_list\":[{\"face_token\":\"04d958c6f099e91dda2ce2942b5d9a7f\"},{\"face_token\":\"d54ea528b5e122e8e1e91465d1aedee7\"}]}}\n",
      "{'error_code': 0, 'error_msg': 'SUCCESS', 'log_id': 305486833737727031, 'timestamp': 1563373772, 'cached': 0, 'result': {'score': 24.34640503, 'face_list': [{'face_token': '04d958c6f099e91dda2ce2942b5d9a7f'}, {'face_token': 'd54ea528b5e122e8e1e91465d1aedee7'}]}}\n",
      "24.34640503\n",
      "图片相似度为：24.34640503，不是同一个人\n"
     ]
    }
   ],
   "source": [
    "#图片识别查看相似度,百度技术文档http://ai.baidu.com/docs#/Face-Match-V3/top\n",
    "import json\n",
    "import requests\n",
    "import base64\n",
    "\n",
    "with open('8.jpg','rb') as f:\n",
    "    pict1=f.read()\n",
    "with open('9.jpg','rb') as f:\n",
    "    pict2=f.read()\n",
    "image_data=json.dumps(\n",
    "[\n",
    "    {\"image\":str(base64.b64encode(pict1),'utf-8'),\"image_type\": \"BASE64\", \"face_type\": \"LIVE\", \"quality_control\": \"LOW\"},\n",
    "    {\"image\":str(base64.b64encode(pict2),'utf-8'),\"image_type\": \"BASE64\", \"face_type\": \"LIVE\", \"quality_control\": \"LOW\"}\n",
    "])\n",
    "# print(image_data)\n",
    "\n",
    "## 拼接API\n",
    "get_token='https://aip.baidubce.com/oauth/2.0/token?grant_type=client_credentials&client_id=86IjPN7yuHsue3mhccy0SeYG&client_secret=PKq0g82ZDqhE7PATk0p9M22Rxu4MOPW7'\n",
    "api_url=\"https://aip.baidubce.com/rest/2.0/face/v3/match?access_token=\"\n",
    "header={'Content-Type':'application/json','charset':'UTF-8'}\n",
    "header2={\"User-Agent\": \"Mozilla/5.0 (Windows NT 10.0; Win64; x64; rv:67.0) Gecko/20100101 Firefox/67.0\"}\n",
    "text = requests.get(get_token,headers=header2).text\n",
    "access_token = json.loads(text)[\"access_token\"]\n",
    "print(access_token)\n",
    "url=api_url+access_token\n",
    "##请求API,传入图片数据返回相似度\n",
    "response = requests.post(url,image_data)\n",
    "print(response.text)\n",
    "print(json.loads(response.text))\n",
    "print(json.loads(response.text)[\"result\"][\"score\"])\n",
    "score=json.loads(response.text)[\"result\"][\"score\"]\n",
    "if score >80:\n",
    "    print(\"图片相似度为：{},是同一个人\".format(score))\n",
    "else:\n",
    "    print(\"图片相似度为：{}，不是同一个人\".format(score))\n"
   ]
  },
  {
   "cell_type": "code",
   "execution_count": null,
   "metadata": {},
   "outputs": [],
   "source": [
    "#turtle模块学习--画灯笼\n",
    "import turtle\n",
    "turtle.speed(0)\n",
    "t=turtle.Pen()\n",
    "t.color(\"red\")\n",
    "t.pensize(7)\n",
    "for x in range(12):\n",
    "    t.shape(\"turtle\")\n",
    "    t.circle(100,360)\n",
    "    t.left(30)\n",
    "turtle.done()"
   ]
  },
  {
   "cell_type": "code",
   "execution_count": 6,
   "metadata": {},
   "outputs": [],
   "source": [
    "import turtle\n",
    "turtle.speed(0)\n",
    "t=turtle.Pen()\n",
    "t.color('blue')\n",
    "t.pensize(2)\n",
    "for x in range(400):\n",
    "    t.fd(x)\n",
    "    t.left(80)\n",
    "turtle.done()\n"
   ]
  },
  {
   "cell_type": "code",
   "execution_count": 4,
   "metadata": {},
   "outputs": [
    {
     "name": "stdout",
     "output_type": "stream",
     "text": [
      "please input the number:10\n",
      "guess bigger\n",
      "please input the number:5\n",
      "guess smaller\n",
      "please input the number:8\n",
      "you are ok\n"
     ]
    }
   ],
   "source": [
    "#数字猜谜游\n",
    "import random \n",
    "randomchoice=random.randint(1,10)\n",
    "guess_count=0\n",
    "while guess_count <= 3:\n",
    "    guess=input(\"please input the number:\") \n",
    "    guess=int(guess)\n",
    "    guess_count+=1\n",
    "    if guess > randomchoice:\n",
    "        print(\"guess bigger\")\n",
    "        continue\n",
    "    elif guess < randomchoice:\n",
    "        print(\"guess smaller\")\n",
    "        continue\n",
    "    else:\n",
    "        print('you are ok')\n",
    "        break"
   ]
  },
  {
   "cell_type": "code",
   "execution_count": 23,
   "metadata": {},
   "outputs": [
    {
     "name": "stdout",
     "output_type": "stream",
     "text": [
      "[2, 7, 6] [9, 5, 1] [4, 3, 8]\n",
      "--------\n",
      "[2, 9, 4] [7, 5, 3] [6, 1, 8]\n",
      "--------\n",
      "[4, 3, 8] [9, 5, 1] [2, 7, 6]\n",
      "--------\n",
      "[4, 9, 2] [3, 5, 7] [8, 1, 6]\n",
      "--------\n",
      "[6, 1, 8] [7, 5, 3] [2, 9, 4]\n",
      "--------\n",
      "[6, 7, 2] [1, 5, 9] [8, 3, 4]\n",
      "--------\n",
      "[8, 1, 6] [3, 5, 7] [4, 9, 2]\n",
      "--------\n",
      "[8, 3, 4] [1, 5, 9] [6, 7, 2]\n",
      "--------\n"
     ]
    }
   ],
   "source": [
    "#有1~9个数字，将他们填入九宫格中(即3*3的表格)。要求他们每行、每列以及对角线的和相等。数字不可以重复\n",
    "\n",
    "'''\n",
    "思路：\n",
    "每行的和相等，而1 + 2 + 3 + .. + 9 = 45。说明每行的和为45/3 = 15。\n",
    "所以我们只需要找出所有三位数之和为15的组合。再从里面找出符合要求的。即：9位数不能有重复，且横、纵、斜之和相等的\n",
    "'''\n",
    "class Sudoku():\n",
    "    def sum15(self):\n",
    "        arr=[]\n",
    "        for i in range(1,10):\n",
    "            for j in range(1,10):\n",
    "                for k in range(1,10):\n",
    "                    # 三个数相加等于15，并且三个数不重复，将他们放入列表中\n",
    "                    if (i+j+k==15) and len({i,j,k})==3:\n",
    "                        arr.append([i,j,k])\n",
    "        return arr\n",
    "    \n",
    "    def line_array(self,data):\n",
    "        for a1 in data:\n",
    "            for a2 in data:\n",
    "                for a3 in data:\n",
    "                    #9个元素不相等\n",
    "                    if len(set(a1+a2+a3))==9:\n",
    "                        sum1=a1[0]+a2[0]+a3[0] #第一列之和\n",
    "                        sum2=a1[1]+a2[1]+a3[1] #第二列之和\n",
    "                        sum3=a1[2]+a2[2]+a3[2] #第三列之和\n",
    "                        sum4=a1[0]+a2[1]+a3[2] #对角线之和\n",
    "                        sum5=a1[2]+a2[1]+a3[0] #对角线之和\n",
    "                        if sum1==sum2==sum3==sum4==sum5:\n",
    "                            print(a1,a2,a3)\n",
    "                            print('--------')\n",
    "\n",
    "if __name__==\"__main__\":\n",
    "    sdk=Sudoku()\n",
    "    data=sdk.sum15()\n",
    "    sdk.line_array(data)"
   ]
  },
  {
   "cell_type": "code",
   "execution_count": 2,
   "metadata": {},
   "outputs": [
    {
     "output_type": "stream",
     "name": "stdout",
     "text": "-----------------------方式1------------------------\n松下问童子，\n言师采药去。\n只在此山中，\n云深不知处。\n-----------------------方式2------------------------\n松下问童子，\n言师采药去。\n只在此山中，\n云深不知处。\n-----------------------方式3------------------------\n['松下问童子，\\n', '言师采药去。\\n', '只在此山中，\\n', '云深不知处。']\n松下问童子，\n言师采药去。\n只在此山中，\n云深不知处。\n-----------------------方式4------------------------\n松下问童子，\n言师采药去。\n只在此山中，\n云深不知处。\n"
    }
   ],
   "source": [
    "#python 文件读取\n",
    "'''\n",
    "创建文件的open函数用法：\n",
    "file = open(file_name, mode='r'，encoding=)\n",
    "file_name：文件路径\n",
    "mode：打开方式：默认'r',\n",
    "encoding: 指定打开的编码\n",
    "常用的打开方式：\n",
    "    r：以只读的方式打开文件，文件必须存在\n",
    "    r+ ：以读写的方式打开文件，文件必须存在\n",
    "    w：以写的方式打开文件，文件若存在，则清空内容，从头写入。若不存在自动创建\n",
    "    w+：已读写的方式打开文件，文件若存在，则清空内容，从头写入。若不存在自动创建\n",
    "    a：已写的方式打开文件，如果存在，则后面追加写入，如果不存在，则创建\n",
    "    a+：已读写的方式打开文件，如果存在，则后面追加写入，如果不存在，则创建\n",
    "'''\n",
    "print('方式1'.center(50,'-'))\n",
    "#一次性读取整个文件，以字符串的形式返回，如果文件过大，会占用较大的内存空间\n",
    "try:\n",
    "    file1=open('./素材/古诗.txt',mode='r',encoding='utf-8')\n",
    "    print(file1.read())\n",
    "except (FileNotFoundError) as e:\n",
    "    print(e)\n",
    "#     print(\"文件不存在\")\n",
    "finally:\n",
    "    file1.close()\n",
    "\n",
    "print('方式2'.center(50,'-'))\n",
    "#上述代码是一种相对比较low的写法，因为每次读取文件都要关闭文件。\n",
    "#这样做是为了操作文件占用的操作系统资源。所以一般读写文件都不这样写，而是通过with open..as..的形式去完成\n",
    "with open('./素材/古诗.txt',mode='r',encoding='utf-8') as file2:\n",
    "    print(file2.read())\n",
    "\n",
    "print('方式3'.center(50,'-'))\n",
    "#一次读取所有文件内容，返回列表，列表中的每个元素 代表每一行的内容\n",
    "with open('./素材/古诗.txt',mode='r',encoding='utf-8') as file3:\n",
    "    lines=file3.readlines()\n",
    "    print(lines)\n",
    "    for line in lines:\n",
    "#         print(line.replace('\\n',''))\n",
    "#         print(line,end='')\n",
    "        print(line.strip('\\n'))\n",
    "\n",
    "print('方式4'.center(50,'-'))\n",
    "#按行读取文件，读取大文件的时候因为一次只读一行数据，所以不会占用较大内存\n",
    "with open('./素材/古诗.txt',mode='r',encoding='utf-8') as file4:\n",
    "    while True:\n",
    "        line=file4.readline()\n",
    "        if not line:\n",
    "            break\n",
    "        print(line.strip('\\n'))\n"
   ]
  },
  {
   "cell_type": "code",
   "execution_count": 3,
   "metadata": {},
   "outputs": [
    {
     "output_type": "stream",
     "name": "stdout",
     "text": "c:\\Users\\Lenovo\\Documents\\studynotebook\\学习总结\nc:\\Users\\Lenovo\\Documents\\scratch\n"
    }
   ],
   "source": [
    "#遍历文件夹目录\n",
    "import os\n",
    "import time\n",
    "\n",
    "from functools import wraps\n",
    "\n",
    "def timeit(func):\n",
    "    @wraps(func)\n",
    "    def wrapper(*args, **kwargs):\n",
    "        start = time.process_time()\n",
    "        ret = func(*args, **kwargs)\n",
    "        end = time.process_time()\n",
    "        print('used:',end-start)\n",
    "        return ret\n",
    "    return wrapper\n",
    "\n",
    "@timeit  #timeit(print_dirs(path))\n",
    "def print_dirs(path):\n",
    "    count=0\n",
    "    for s_child in os.listdir(path):              #遍历目录\n",
    "        s_child_path=os.path.join(path,s_child)   #拼接子目录或子文件\n",
    "        if os.path.isdir(s_child_path):           #判断是否为目录\n",
    "            print_dirs(s_child_path)              #若是目录，递归函数再次执行\n",
    "        else:\n",
    "            print(s_child)                      #非目录 直接打印\n",
    "            count+=1\n",
    "# print_dirs('C:\\Intel')\n",
    "# print_dirs(r'C:\\Users\\Administrator\\Documents\\scratch')\n",
    "# print(count)\n",
    "if __name__=='__main__':\n",
    "    print(os.getcwd())\n",
    "    des=os.path.join(os.path.dirname(os.path.dirname(os.getcwd())),'scratch')\n",
    "    print(des)\n",
    "#     print_dirs(des)\n"
   ]
  },
  {
   "cell_type": "code",
   "execution_count": 9,
   "metadata": {},
   "outputs": [
    {
     "name": "stdout",
     "output_type": "stream",
     "text": [
      "C:\\Users\\Lenovo\\Documents\\studynotebook\n",
      "C:\\Users\\Lenovo\\scratch\n",
      "0.00 has passed\n"
     ]
    }
   ],
   "source": [
    "#遍历文件夹目录\n",
    "import os\n",
    "import time\n",
    "\n",
    "def print_dirs(path):\n",
    "    for i,s_child in enumerate(os.listdir(path)):              #遍历目录\n",
    "        s_child_path=os.path.join(path,s_child)   #拼接子目录或子文件\n",
    "        if os.path.isfile(s_child_path):           #判断是否为目录\n",
    "            print('{t}***{i} docs has been readed'.format(i=i,t=time.strftime('%y-%m-%d %H:%M:%S',time.localtime())) )\n",
    "        else:\n",
    "            print_dirs(s_child_path)              #若是目录，递归函数再次执行\n",
    "\n",
    "if __name__=='__main__':\n",
    "    print(os.getcwd())\n",
    "    des=os.path.join(os.path.dirname(os.path.dirname(os.getcwd())),'scratch')\n",
    "    print(des)\n",
    "    start=time.perf_counter()\n",
    "#     print_dirs(des)\n",
    "    end=time.perf_counter()\n",
    "    print('%.2f has passed'%(end-start))\n"
   ]
  },
  {
   "cell_type": "code",
   "execution_count": 21,
   "metadata": {},
   "outputs": [
    {
     "name": "stdout",
     "output_type": "stream",
     "text": [
      "1,1,2,3,5,8,13,21,34,55,89,144,233,377,610,987,1597,2584,4181,6765,used:0.00\n"
     ]
    }
   ],
   "source": [
    "#斐波那契数列-1\n",
    "\n",
    "# 程序分析：斐波那契数列（Fibonacci sequence），又称黄金分割数列，指的是这样一个数列：0、1、1、2、3、5、8、13、21、34、……。\n",
    "#即从0和1开始，之后的斐波那契数列系数就由之前的两数相加 .\n",
    "\n",
    "import time\n",
    "from functools import wraps\n",
    "\n",
    "def timeit(func):\n",
    "    @wraps(func)\n",
    "    def wrapper(*args, **kwargs):\n",
    "        start = time.perf_counter()\n",
    "        ret = func(*args, **kwargs)\n",
    "        end = time.perf_counter()\n",
    "        print('used:%.2f'%(end-start))\n",
    "        return ret\n",
    "    return wrapper\n",
    "@timeit\n",
    "def fib(max):\n",
    "    n,a,b=0,0,1\n",
    "    while n < max:\n",
    "        print(b,end=',')\n",
    "        a,b=b,a+b\n",
    "        n+=1\n",
    "\n",
    "if __name__=='__main__':\n",
    "    fib(20)\n"
   ]
  },
  {
   "cell_type": "code",
   "execution_count": 1,
   "metadata": {},
   "outputs": [
    {
     "name": "stdout",
     "output_type": "stream",
     "text": [
      "used:0.00\n"
     ]
    }
   ],
   "source": [
    "#斐波那契数列-2 生成器\n",
    "import time\n",
    "from functools import wraps\n",
    "\n",
    "def timeit(func):\n",
    "    @wraps(func)\n",
    "    def wrapper(*args, **kwargs):\n",
    "        start = time.perf_counter()\n",
    "        ret = func(*args, **kwargs)\n",
    "        end = time.perf_counter()\n",
    "        print('used:%.2f'%(end-start))\n",
    "        return ret\n",
    "    return wrapper\n",
    "@timeit\n",
    "def fib(max):\n",
    "    n,a,b=0,0,1\n",
    "    while n < max:\n",
    "        yield b\n",
    "        a,b=b,a+b\n",
    "        n+=1\n",
    "\n",
    "if __name__=='__main__':\n",
    "    fib(20)\n"
   ]
  },
  {
   "cell_type": "code",
   "execution_count": 3,
   "metadata": {},
   "outputs": [
    {
     "data": {
      "text/plain": [
       "6765"
      ]
     },
     "execution_count": 3,
     "metadata": {},
     "output_type": "execute_result"
    }
   ],
   "source": [
    "#斐波那契数列-3 递归\n",
    "\n",
    "def fib(n):\n",
    "    if n==0:\n",
    "        return 0\n",
    "    elif n==1:\n",
    "        return 1\n",
    "    else:\n",
    "        return fib(n-1)+fib(n-2)\n",
    "fib(20)"
   ]
  },
  {
   "cell_type": "code",
   "execution_count": 13,
   "metadata": {},
   "outputs": [
    {
     "name": "stdout",
     "output_type": "stream",
     "text": [
      "Me and the guys behind\n",
      "[1, 2, 3, 4, 5, 6]\n",
      "Me and the guys behind\n",
      "[2, 3, 4, 5, 6]\n",
      "Me and the guys behind\n",
      "[3, 4, 5, 6]\n",
      "Me and the guys behind\n",
      "[4, 5, 6]\n",
      "Me and the guys behind\n",
      "[5, 6]\n",
      "Just me\n",
      "[6]\n"
     ]
    },
    {
     "data": {
      "text/plain": [
       "6"
      ]
     },
     "execution_count": 13,
     "metadata": {},
     "output_type": "execute_result"
    }
   ],
   "source": [
    "# 这一排有多少人？ 递归思想，注意函数中多个return 若是返回数字，这些数字是可以计算出和\n",
    "line=[1,2,3,4,5,6]\n",
    "\n",
    "def howmanyareinline(lst):\n",
    "    if lst[1:]:\n",
    "        print('Me and the guys behind')\n",
    "        print(lst)\n",
    "        return 1 + howmanyareinline(lst[1:])\n",
    "    else:\n",
    "        print('Just me')\n",
    "        print(lst)\n",
    "        return 1\n",
    "howmanyareinline(line)"
   ]
  },
  {
   "cell_type": "code",
   "execution_count": 37,
   "metadata": {},
   "outputs": [
    {
     "data": {
      "text/plain": [
       "120"
      ]
     },
     "execution_count": 37,
     "metadata": {},
     "output_type": "execute_result"
    }
   ],
   "source": [
    "#阶乘计算  递归 例：5！=5*4*3*2*1\n",
    "\n",
    "def factorial(n):\n",
    "    if n==1:\n",
    "        return 1\n",
    "    else:\n",
    "        return n * factorial(n-1)\n",
    "# factorial(2960)\n",
    "factorial(5)"
   ]
  },
  {
   "cell_type": "code",
   "execution_count": 1,
   "metadata": {},
   "outputs": [
    {
     "data": {
      "text/plain": [
       "[1, 2, 3, 4, 5]"
      ]
     },
     "execution_count": 1,
     "metadata": {},
     "output_type": "execute_result"
    }
   ],
   "source": [
    "#冒泡排序\n",
    "lst=[5,4,3,2,1] #5个元素需要4轮完成排序\n",
    "def bubbleSort(array):\n",
    "    for i in range (len(lst)-1):#需要4轮完成\n",
    "        for j in range(len(lst)-1-i):#每轮完成最大元素后移排序\n",
    "            if lst[j] > lst[j+1]:\n",
    "                lst[j],lst[j+1]=lst[j+1],lst[j]\n",
    "    return lst\n",
    "\n",
    "bubbleSort(lst)"
   ]
  },
  {
   "cell_type": "markdown",
   "metadata": {},
   "source": []
  },
  {
   "cell_type": "code",
   "execution_count": 6,
   "metadata": {},
   "outputs": [],
   "source": [
    "#生成一个由字母组成的三角形\n",
    "def traingle(row):\n",
    "    import string\n",
    "    alphabet=[i for i in string.ascii_uppercase]\n",
    "    for i in range(1,row+1):\n",
    "        if i<=26:\n",
    "            string=''.join(alphabet[:i]+list(reversed(alphabet[:i-1])))\n",
    "        else:\n",
    "            j=i-26\n",
    "            string=alphabet+alphabet[:j]+list(reversed(alphabet+alphabet[:j-1]))\n",
    "            string=''.join(string)\n",
    "        print(' '*(row-i)+string)\n",
    "\n",
    "# if __name__=='__main__':\n",
    "#     traingle(28)"
   ]
  },
  {
   "cell_type": "code",
   "execution_count": 4,
   "metadata": {},
   "outputs": [],
   "source": [
    "#requests\n",
    "import requests\n",
    "def getHTMLText(url):\n",
    "    try:\n",
    "        r=requests.get(url,timeout=30)\n",
    "        r.raise_for_status()\n",
    "        print(r.apparent_encoding)\n",
    "        r.encoding=r.apparent_encoding\n",
    "        print(r.text) \n",
    "    except:\n",
    "#         return '产生异常'\n",
    "        print('产生异常')\n",
    "# if __name__=='__main__':\n",
    "#     getHTMLText('https://www.baidu.com')"
   ]
  },
  {
   "cell_type": "code",
   "execution_count": 21,
   "metadata": {},
   "outputs": [
    {
     "name": "stdout",
     "output_type": "stream",
     "text": [
      "Fist var is : hello\n",
      "I\n",
      "Am\n",
      "Chinese\n",
      "****************************************\n",
      "arg1: 1\n",
      "arg2: 2\n",
      "arg3: 3\n",
      "arg1: 155\n",
      "arg2: 34\n",
      "arg3: Man\n"
     ]
    }
   ],
   "source": [
    "'''\n",
    "*args 和 **kwargs\n",
    "*args 是⽤来发送⼀个⾮键值对的可变数量的参数列表给⼀个函数\n",
    "**kwargs 允许你将不定长度的键值对, 作为参数传递给⼀个函数。 如果你想要在⼀个函 数⾥处理带名字的参数, 你应该使⽤**kwargs。\n",
    "标准参数与*args、**kwargs在使⽤时的顺序 那么如果你想在函数⾥同时使⽤所有这三种参数， 顺序是这样的： some_func(fargs, *args, **kwargs)\n",
    "\n",
    "'''\n",
    "def test_var_args(var,*args):\n",
    "    print('Fist var is :',var)\n",
    "    for arg in args:\n",
    "        print(arg)\n",
    "\n",
    "def test_var_kwargs(**kwargs):\n",
    "    for k,v in kwargs.items():\n",
    "        print('{}:{}'.format(k,v))\n",
    "        \n",
    "def test_args_kwargs(arg1,arg2,arg3):\n",
    "    print('arg1:',arg1)\n",
    "    print('arg2:',arg2)\n",
    "    print('arg3:',arg3)\n",
    "if __name__=='__main__':\n",
    "    test_var_args('hello','I','Am','Chinese')\n",
    "    print('****'*10)\n",
    "    args=(1,2,3)\n",
    "    kwargs={'arg1':155,'arg3':'Man','arg2':34}\n",
    "    test_args_kwargs(*args)\n",
    "    test_args_kwargs(**kwargs)\n",
    "\n"
   ]
  },
  {
   "cell_type": "code",
   "execution_count": 11,
   "metadata": {},
   "outputs": [
    {
     "name": "stdout",
     "output_type": "stream",
     "text": [
      "Ren is fat\n",
      "2\n"
     ]
    }
   ],
   "source": [
    "'''\n",
    "三元运算符\n",
    "如果条件为真，返回真 否则返回假 \n",
    "condition_is_true if condition else condition_is_false\n",
    "'''\n",
    "fat=True\n",
    "fatness=('skinny','fat')[fat]\n",
    "print('Ren is',fatness)\n",
    "'''\n",
    "这之所以能正常⼯作，是因为在Python中，True等于1，⽽False等于0，这就相当于在元组 中使⽤0和1来选取数据。\n",
    "上⾯的例⼦没有被⼴泛使⽤，⽽且Python玩家⼀般不喜欢那样，因为没有Python味⼉ (Pythonic)。\n",
    "这样的⽤法很容易把真正的数据与true/false弄混。 \n",
    "另外⼀个不使⽤元组条件表达式的缘故是因为在元组中会把两个条件都执⾏，⽽ if- else 的条件表达式不会这样。\n",
    "'''\n",
    "condition=True\n",
    "print(2 if condition else 1/0)\n",
    "# (1/0,2)[condition] #ZeroDivisionError: division by zero"
   ]
  },
  {
   "cell_type": "code",
   "execution_count": 10,
   "metadata": {},
   "outputs": [
    {
     "name": "stdout",
     "output_type": "stream",
     "text": [
      "{\n",
      "    \"status\": \"OK\",\n",
      "    \"count\": 2,\n",
      "    \"results\": [\n",
      "        {\n",
      "            \"age\": 27,\n",
      "            \"name\": \"Oz\",\n",
      "            \"lactose_intolerant\": \"true\"\n",
      "        },\n",
      "        {\n",
      "            \"age\": 29,\n",
      "            \"name\": \"Joe\",\n",
      "            \"lactose_intolerant\": \"false\"\n",
      "        }\n",
      "    ]\n",
      "}\n"
     ]
    }
   ],
   "source": [
    "'''\n",
    "JSON是一种非常好的数据序列化的形式，被如今的各种API和web service大量的使用。使用python内置的json处理，\n",
    "可以使JSON串具有一定的可读性，但当遇到大型数据时，它表现成一个很长的、连续的一行时，人的肉眼就很难观看了。\n",
    "为了能让JSON数据表现的更友好，我们可以使用indent参数来输出漂亮的JSON。当在控制台交互式编程或做日志时，这尤其有用：\n",
    "'''\n",
    "import json\n",
    "dict1={'status': 'OK', 'count': 2, 'results': [{'age': 27, 'name': 'Oz', 'lactose_intolerant': 'true'}, \n",
    "                                               {'age': 29, 'name': 'Joe', 'lactose_intolerant': 'false'}]}\n",
    "\n",
    "print(json.dumps(dict1,indent=4))\n"
   ]
  },
  {
   "cell_type": "code",
   "execution_count": null,
   "metadata": {},
   "outputs": [],
   "source": []
  }
 ],
 "metadata": {
  "kernelspec": {
   "display_name": "Python 3",
   "language": "python",
   "name": "python3"
  },
  "language_info": {
   "codemirror_mode": {
    "name": "ipython",
    "version": 3
   },
   "file_extension": ".py",
   "mimetype": "text/x-python",
   "name": "python",
   "nbconvert_exporter": "python",
   "pygments_lexer": "ipython3",
   "version": "3.7.6-final"
  }
 },
 "nbformat": 4,
 "nbformat_minor": 2
}