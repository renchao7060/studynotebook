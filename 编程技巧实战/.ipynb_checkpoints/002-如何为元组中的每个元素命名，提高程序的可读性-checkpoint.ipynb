{
 "cells": [
  {
   "cell_type": "code",
   "execution_count": null,
   "metadata": {},
   "outputs": [],
   "source": [
    "'''\n",
    "实际案例\n",
    "学生信息系统中数据为固定格式：（名字，年龄，性别，邮箱地址，...）\n",
    "学生数量很大为了减小存储开销，对每个学生信息用元组表示：\n",
    "('chao',16,'male','chao123@163.com')\n",
    "('ling',15,'male','ling321@163.com')\n",
    "('zhen',16,'female','zhen345@163.com')\n",
    "......\n",
    "访问时，我们使用索引（index）访问，大量索引降低程序可读性，如何解决这个问题呢？\n",
    "\n",
    "解决方案\n",
    "方案1：定义类似与其他语言的枚举类型，也就是定义一系列数值常量。\n",
    "方案2：使用标准库中collections.nampdtuple代替内置tuple\n",
    "\n",
    "'''"
   ]
  },
  {
   "cell_type": "code",
   "execution_count": 5,
   "metadata": {},
   "outputs": [
    {
     "name": "stdout",
     "output_type": "stream",
     "text": [
      "chao 16 male chao123@163.com\n"
     ]
    }
   ],
   "source": [
    "s1=('chao',16,'male','chao123@163.com')\n",
    "s2=('ling',15,'male','ling321@163.com')\n",
    "s3=('zhen',16,'female','zhen345@163.com')\n",
    "print(s1[0],s1[1],s1[2],s1[3]) #chao 16 male chao123@163.com\n",
    "#元组通过索引值调取获取相应的数值信息，这里使用索引并不直观，考虑将索引值替换为名称，\n",
    "# 这样调用的时候直白可视强。如s1[name],s1[age]"
   ]
  },
  {
   "cell_type": "code",
   "execution_count": null,
   "metadata": {},
   "outputs": [],
   "source": [
    "#代码验证"
   ]
  },
  {
   "cell_type": "code",
   "execution_count": 9,
   "metadata": {},
   "outputs": [
    {
     "name": "stdout",
     "output_type": "stream",
     "text": [
      "0 1 2 3\n"
     ]
    }
   ],
   "source": [
    "#方案1：\n",
    "#分别为变量name,age,sex,mail赋予相应的数值，替代索引值0,1,2，3\n",
    "name,age,sex,mail=range(4)\n",
    "print(name,age,sex,mail) #0 1 2 3"
   ]
  },
  {
   "cell_type": "code",
   "execution_count": 12,
   "metadata": {},
   "outputs": [
    {
     "name": "stdout",
     "output_type": "stream",
     "text": [
      "chao\n",
      "15\n",
      "zhen345@163.com\n",
      "True\n"
     ]
    }
   ],
   "source": [
    "print(s1[name])     #chao\n",
    "print(s2[age])      #15\n",
    "print(s3[mail])     #zhen345@163.com\n",
    "if s3[age]==16:     #True\n",
    "    print('True')\n",
    "else:\n",
    "    print('False')"
   ]
  },
  {
   "cell_type": "code",
   "execution_count": null,
   "metadata": {},
   "outputs": [],
   "source": [
    "# 方案2："
   ]
  },
  {
   "cell_type": "code",
   "execution_count": 29,
   "metadata": {},
   "outputs": [
    {
     "name": "stdout",
     "output_type": "stream",
     "text": [
      "chao 16 male chao123@163.com\n",
      "zhen 16 female zhen345@163.com\n",
      "ling 15 male ling321@163.com\n"
     ]
    }
   ],
   "source": [
    "from collections import namedtuple\n",
    "#定义一个子类Student,名称为Stu,子类下变量分别为name,age,sex,mail,对应索引值为0,1,2,3\n",
    "Student=namedtuple('Stu',['name','age','sex','mail']) \n",
    "#将类Student实例化为s1,s2,并在实例化时传入name,age,sex,mail变量值\n",
    "# 传入变量值有两种方式，一种为按照索引值0-3依次输入，一种是分别为变量名称赋值，\n",
    "# 第二种方式传入的数值，可不遵循索引0-3顺序，依次传入。\n",
    "s1=Student('chao',16,'male','chao123@163.com')\n",
    "s2=Student(name='zhen',age=16,sex='female',mail='zhen345@163.com')\n",
    "s3=Student(age=15,name='ling',mail='ling321@163.com',sex='male')\n",
    "print(s1.name,s1.age,s1.sex,s1.mail)  #chao 16 male chao123@163.com\n",
    "print(s2.name,s2.age,s2.sex,s2.mail) #zhen 16 female zhen345@163.com\n",
    "print(s3.name,s3.age,s3.sex,s3.mail) #ling 15 male ling321@163.com"
   ]
  },
  {
   "cell_type": "code",
   "execution_count": null,
   "metadata": {},
   "outputs": [],
   "source": []
  }
 ],
 "metadata": {
  "kernelspec": {
   "display_name": "Python 3",
   "language": "python",
   "name": "python3"
  },
  "language_info": {
   "codemirror_mode": {
    "name": "ipython",
    "version": 3
   },
   "file_extension": ".py",
   "mimetype": "text/x-python",
   "name": "python",
   "nbconvert_exporter": "python",
   "pygments_lexer": "ipython3",
   "version": "3.7.6"
  }
 },
 "nbformat": 4,
 "nbformat_minor": 4
}
