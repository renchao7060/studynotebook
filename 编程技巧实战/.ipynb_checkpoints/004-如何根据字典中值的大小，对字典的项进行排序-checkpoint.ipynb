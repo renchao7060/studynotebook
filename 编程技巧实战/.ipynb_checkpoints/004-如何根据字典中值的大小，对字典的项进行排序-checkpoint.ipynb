{
 "cells": [
  {
   "cell_type": "code",
   "execution_count": null,
   "metadata": {},
   "outputs": [],
   "source": [
    "'''\n",
    "实际案例\n",
    "某班英语成绩以字典形式存储为：{'LiLei':79,'Jim':88,'Lucy':92...}\n",
    "根据成绩高低，计算学生排名。\n",
    "\n",
    "解决方案\n",
    "使用内置函数sorted\n",
    "1、利用zip将字典数据转化元组\n",
    "2、传递sorted函数的key参数\n",
    "\n",
    "基础知识\n",
    "zip() 函数用于将可迭代的对象作为参数，将对象中对应的元素打包成一个个元组，然后返回由这些元组组成的列表。\n",
    "如果各个迭代器的元素个数不一致，则返回列表长度与最短的对象相同，利用 * 号操作符，可以将元组解压为列表。\n",
    "zip语法：zip([iterable, ...])\n",
    "\n",
    "sorted() 函数对所有可迭代的对象进行排序操作。\n",
    "    sort 与 sorted 区别：\n",
    "    sort 是应用在 list 上的方法，sorted 可以对所有可迭代的对象进行排序操作。\n",
    "    list 的 sort 方法返回的是对已经存在的列表进行操作，无返回值，而内建函数 sorted 方法返回的是一个新的 list，而不是在原来的基础上进行的操作。\n",
    "\n",
    "sorted语法：sorted(iterable, key=None, reverse=False)\n",
    "    iterable -- 可迭代对象。\n",
    "    key -- 主要是用来进行比较的元素，只有一个参数，具体的函数的参数就是取自于可迭代对象中，指定可迭代对象中的一个元素来进行排序。\n",
    "    reverse -- 排序规则，reverse = True 降序 ， reverse = False 升序（默认）。\n",
    "\n",
    "'''"
   ]
  },
  {
   "cell_type": "code",
   "execution_count": 24,
   "metadata": {},
   "outputs": [
    {
     "name": "stdout",
     "output_type": "stream",
     "text": [
      "<zip object at 0x000002AD75C1D748>\n",
      "[(1, 11), (2, 12), (3, 13)]\n",
      "[(1, 2, 3), (11, 12, 13)]\n",
      "[(1, 2, 3), (11, 12, 13)]\n",
      "('f', 'f', 'f')\n",
      "('l', 'l', 'l')\n",
      "('o', 'o', 'i')\n",
      "('w', 'w', 'g')\n"
     ]
    }
   ],
   "source": [
    "#基础知识验证1\n",
    "a=[1,2,3]\n",
    "b=[11,12,13]\n",
    "print(zip(a,b))#<zip object at 0x000002AD75CE9648>\n",
    "print(list(zip(a,b)))#[(1, 11), (2, 12), (3, 13)]\n",
    "zipped=zip(a,b)\n",
    "# print(zip(*zipped)) 与 zip 相反，*zipped 可理解为解压，返回二维矩阵式\n",
    "print(list(zip(*zipped)))#[(1, 2, 3), (11, 12, 13)]\n",
    "\n",
    "list1=[(1, 11), (2, 12), (3, 13)]\n",
    "print(list(zip(*list1)))#[(1, 2, 3), (11, 12, 13)]\n",
    "\n",
    "list2 = ['flower','flow','flight']\n",
    "for i in zip(*list2):\n",
    "    print(i)\n",
    "# ('f', 'f', 'f')\n",
    "# ('l', 'l', 'l')\n",
    "# ('o', 'o', 'i')\n",
    "# ('w', 'w', 'g')"
   ]
  },
  {
   "cell_type": "code",
   "execution_count": 35,
   "metadata": {},
   "outputs": [
    {
     "name": "stdout",
     "output_type": "stream",
     "text": [
      "[5, 4, 3, 2, 1]\n",
      "[1, 2, 3, 4, 5]\n",
      "[('a', 4), ('b', 3), ('c', 2), ('d', 1)]\n",
      "[('d', 1), ('c', 2), ('b', 3), ('a', 4)]\n",
      "[('a', 3), ('a', 4), ('b', 1), ('b', 2)]\n",
      "[('a', 3), ('a', 4), ('b', 2), ('b', 1)]\n",
      "[('b', 1), ('b', 2), ('a', 3), ('a', 4)]\n"
     ]
    }
   ],
   "source": [
    "#基础知识验证2\n",
    "a=[5,4,3,2,1]\n",
    "b=sorted(a)# 保留原列表\n",
    "print(a)#[5, 4, 3, 2, 1]\n",
    "print(b)#[1, 2, 3, 4, 5]\n",
    "\n",
    "L=[('b',3),('a',4),('c',2),('d',1)]\n",
    "print(sorted(L,key=lambda x:x[0]))#[('a', 4), ('b', 3), ('c', 2), ('d', 1)]基于元组第一个元素进行排序\n",
    "print(sorted(L,key=lambda x:x[1]))#[('d', 1), ('c', 2), ('b', 3), ('a', 4)]基于元素第二个元素进行排序\n",
    "\n",
    "L2=[('a',3),('a',4),('b',2),('b',1)]\n",
    "print(sorted(L2))#[('a', 3), ('a', 4), ('b', 1), ('b', 2)] 不指定key情况，先比较第元组第一个元素，一致情况下再比较第二个元素\n",
    "print(sorted(L2,key=lambda x:x[0]))#[('a', 3), ('a', 4), ('b', 2), ('b', 1)]指定key情况，若key一致情况，列表排列靠前的优先\n",
    "print(sorted(L2,key=lambda x:x[1]))#[('b', 1), ('b', 2), ('a', 3), ('a', 4)]\n",
    "\n",
    "(97,'a')>(69,'b')#True\n",
    "(97,'a')>(97,'b')#False 先比较元组第一个元素，相同的情况再比较第二个元素"
   ]
  },
  {
   "cell_type": "code",
   "execution_count": null,
   "metadata": {},
   "outputs": [],
   "source": [
    "#编程实现"
   ]
  },
  {
   "cell_type": "code",
   "execution_count": null,
   "metadata": {},
   "outputs": [],
   "source": [
    "#方式1"
   ]
  },
  {
   "cell_type": "code",
   "execution_count": 2,
   "metadata": {},
   "outputs": [
    {
     "name": "stdout",
     "output_type": "stream",
     "text": [
      "{'x': 61, 'y': 82, 'z': 90, 'a': 84, 'b': 61, 'c': 63}\n"
     ]
    }
   ],
   "source": [
    "from random import randint\n",
    "d={x:randint(60,90) for x in 'xyzabc'}\n",
    "print(d)#随机生成字典{'x': 61, 'y': 82, 'z': 90, 'a': 84, 'b': 61, 'c': 63}"
   ]
  },
  {
   "cell_type": "code",
   "execution_count": 3,
   "metadata": {},
   "outputs": [
    {
     "data": {
      "text/plain": [
       "['a', 'b', 'c', 'x', 'y', 'z']"
      ]
     },
     "execution_count": 3,
     "metadata": {},
     "output_type": "execute_result"
    }
   ],
   "source": [
    "sorted(d)#['a', 'b', 'c', 'x', 'y', 'z']默认根据字典key值进行由小到大排序"
   ]
  },
  {
   "cell_type": "code",
   "execution_count": 8,
   "metadata": {},
   "outputs": [
    {
     "name": "stdout",
     "output_type": "stream",
     "text": [
      "dict_keys(['x', 'y', 'z', 'a', 'b', 'c'])\n",
      "dict_values([61, 82, 90, 84, 61, 63])\n"
     ]
    }
   ],
   "source": [
    "print(d.keys())#dict_keys(['x', 'y', 'z', 'a', 'b', 'c'])\n",
    "print(d.values())#dict_values([61, 82, 90, 84, 61, 63])"
   ]
  },
  {
   "cell_type": "code",
   "execution_count": 10,
   "metadata": {},
   "outputs": [
    {
     "name": "stdout",
     "output_type": "stream",
     "text": [
      "<zip object at 0x000002AD75CDFA08>\n",
      "[(61, 'x'), (82, 'y'), (90, 'z'), (84, 'a'), (61, 'b'), (63, 'c')]\n"
     ]
    }
   ],
   "source": [
    "print(zip(d.values(),d.keys()))#<zip object at 0x000002AD75CDF048>\n",
    "#在 Python 3.x 中为了减少内存，zip() 返回的是一个对象。如需展示列表，需手动 list() 转换。\n",
    "print(list(zip(d.values(),d.keys())))\n",
    "#[(61, 'x'), (82, 'y'), (90, 'z'), (84, 'a'), (61, 'b'), (63, 'c')]"
   ]
  },
  {
   "cell_type": "code",
   "execution_count": 6,
   "metadata": {},
   "outputs": [
    {
     "data": {
      "text/plain": [
       "[(61, 'b'), (61, 'x'), (63, 'c'), (82, 'y'), (84, 'a'), (90, 'z')]"
      ]
     },
     "execution_count": 6,
     "metadata": {},
     "output_type": "execute_result"
    }
   ],
   "source": [
    "sorted(zip(d.values(),d.keys()))\n",
    "#[(61, 'b'), (61, 'x'), (63, 'c'), (82, 'y'), (84, 'a'), (90, 'z')]\n",
    "#sorted先比较元组的第一个元素，一致情况再比较元组的第二个元素"
   ]
  },
  {
   "cell_type": "code",
   "execution_count": null,
   "metadata": {},
   "outputs": [],
   "source": [
    "#方式2"
   ]
  },
  {
   "cell_type": "code",
   "execution_count": 11,
   "metadata": {},
   "outputs": [
    {
     "name": "stdout",
     "output_type": "stream",
     "text": [
      "dict_items([('x', 61), ('y', 82), ('z', 90), ('a', 84), ('b', 61), ('c', 63)])\n"
     ]
    }
   ],
   "source": [
    "print(d.items())#返回列表，且列表中每个元素为一个元组\n",
    "#dict_items([('x', 61), ('y', 82), ('z', 90), ('a', 84), ('b', 61), ('c', 63)])"
   ]
  },
  {
   "cell_type": "code",
   "execution_count": 13,
   "metadata": {},
   "outputs": [
    {
     "data": {
      "text/plain": [
       "[('x', 61), ('b', 61), ('c', 63), ('y', 82), ('a', 84), ('z', 90)]"
      ]
     },
     "execution_count": 13,
     "metadata": {},
     "output_type": "execute_result"
    }
   ],
   "source": [
    "sorted(d.items(),key=lambda x:x[1])#根据元组中第二个元素进行排序\n",
    "#[('x', 61), ('b', 61), ('c', 63), ('y', 82), ('a', 84), ('z', 90)]"
   ]
  },
  {
   "cell_type": "code",
   "execution_count": null,
   "metadata": {},
   "outputs": [],
   "source": []
  }
 ],
 "metadata": {
  "kernelspec": {
   "display_name": "Python 3",
   "language": "python",
   "name": "python3"
  },
  "language_info": {
   "codemirror_mode": {
    "name": "ipython",
    "version": 3
   },
   "file_extension": ".py",
   "mimetype": "text/x-python",
   "name": "python",
   "nbconvert_exporter": "python",
   "pygments_lexer": "ipython3",
   "version": "3.7.6"
  }
 },
 "nbformat": 4,
 "nbformat_minor": 4
}
