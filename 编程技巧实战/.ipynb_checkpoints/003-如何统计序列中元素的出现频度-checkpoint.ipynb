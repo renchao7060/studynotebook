{
 "cells": [
  {
   "cell_type": "code",
   "execution_count": null,
   "metadata": {},
   "outputs": [],
   "source": [
    "'''\n",
    "实际案例\n",
    "1.某随机序列[1,2,3,5,7,8,1,3,5,7,...]中，找到出现次数最高的3个元素，它们出现次数是多少？\n",
    "2.对某英文文档的单词，进行词频统计，找到出现次数最高的10个单词，它们出现次数是多少？\n",
    "\n",
    "解决方案\n",
    "1.使用collections.Counter对象。\n",
    "2.将序列传入Couner的构造器，得到Counter对象是元素频度的字典。\n",
    "3.Couner.most_common(n)方法得到频度最高的n个元素的列表。\n",
    "'''"
   ]
  },
  {
   "cell_type": "code",
   "execution_count": 36,
   "metadata": {},
   "outputs": [
    {
     "name": "stdout",
     "output_type": "stream",
     "text": [
      "[0, 1, 1, 2, 2, 2, 2, 3, 3, 3]\n",
      "[(0, 0), (1, 0), (2, 0), (3, 0)]\n",
      "{0: 0, 1: 0, 2: 0, 3: 0}\n",
      "[(0, 0), (1, 0), (2, 0), (3, 0)]\n",
      "{0: 0, 1: 0, 2: 0, 3: 0}\n",
      "{0: 0, 1: 0, 2: 0, 3: 0}\n"
     ]
    }
   ],
   "source": [
    "from random import randint\n",
    "\n",
    "data=[randint(0,5) for _ in range(10)]#随机生成10个数字,范围在0,5间\n",
    "data=sorted(data,reverse=False) #10个数字进行排序\n",
    "print(data)#[0, 1, 1, 2, 2, 2, 2, 3, 3, 3]\n",
    "\n",
    "# 方式1：生成字典，并根据key值进行排序，方便查看。\n",
    "dict1=dict.fromkeys(data,0) #将data剔除重复数值后作为字典的key值，value统一定义为0\n",
    "\n",
    "'''\n",
    "sorted(iterable,key,reverse)，\n",
    "sorted一共有iterable,key,reverse这三个参数;\n",
    "其中iterable表示可以迭代的对象，例如可以是dict.items()、dict.keys()等\n",
    "key是一个函数，用来选取参与比较的元素，\n",
    "reverse则是用来指定排序是倒序还是顺序，reverse=true则是倒序，\n",
    "reverse=false时则是顺序，默认时reverse=false。\n",
    "'''\n",
    "\n",
    "list1=sorted(dict1.items(),key=lambda x:x[0],reverse=False) #过渡，根据字典key值进行排序，生成列表\n",
    "print(list1)#[(0, 0), (1, 0), (2, 0), (3, 0)]\n",
    "\n",
    "dict1=dict(list1) #列表转换为字典\n",
    "print(dict1)#{0: 0, 1: 0, 2: 0, 3: 0}\n",
    "\n",
    "# 方式2：生成字典，并根据key值进行排序，方便查看。\n",
    "import operator\n",
    "dict1=dict.fromkeys(data,0) #将data剔除重复数值后作为字典的key值，value统一定义为0\n",
    "list2=sorted(dict1.items(),key=operator.itemgetter(0),reverse=False)\n",
    "print(list2)#[(0, 0), (1, 0), (2, 0), (3, 0)]\n",
    "dict2=dict(list2)\n",
    "print(dict2)#{0: 0, 1: 0, 2: 0, 3: 0}\n",
    "\n",
    "# 方式3：生成字典，并根据key值进行排序，方便查看。\n",
    "keys=set(data)#使用集合特点，剔除重复数值\n",
    "# print(keys)\n",
    "dict3={k:0 for k in keys}\n",
    "print(dict3) #{0: 0, 1: 0, 2: 0, 3: 0}"
   ]
  },
  {
   "cell_type": "code",
   "execution_count": 37,
   "metadata": {},
   "outputs": [
    {
     "name": "stdout",
     "output_type": "stream",
     "text": [
      "{0: 1, 1: 2, 2: 4, 3: 3}\n",
      "{0: 1, 1: 2, 2: 4, 3: 3}\n",
      "{0: 1, 1: 2, 2: 4, 3: 3}\n"
     ]
    }
   ],
   "source": [
    "for i in data:\n",
    "    dict1[i]+=1\n",
    "print(dict1)#{0: 1, 1: 2, 2: 4, 3: 3}\n",
    "\n",
    "for i in data:\n",
    "    dict2[i]+=1\n",
    "print(dict1)#{0: 1, 1: 2, 2: 4, 3: 3}\n",
    "\n",
    "for i in data:\n",
    "    dict3[i]+=1\n",
    "print(dict1)#{0: 1, 1: 2, 2: 4, 3: 3}"
   ]
  },
  {
   "cell_type": "code",
   "execution_count": null,
   "metadata": {},
   "outputs": [],
   "source": [
    "#编程验证"
   ]
  },
  {
   "cell_type": "code",
   "execution_count": 41,
   "metadata": {},
   "outputs": [
    {
     "name": "stdout",
     "output_type": "stream",
     "text": [
      "Counter({3: 3, 5: 2, 2: 2, 0: 2, 4: 1})\n",
      "1\n",
      "[(3, 3), (5, 2), (2, 2)]\n"
     ]
    }
   ],
   "source": [
    "#实例1\n",
    "from random import randint\n",
    "from collections import Counter\n",
    "\n",
    "data=[randint(0,5) for _ in range(10)]#随机生成10个数字,范围在0,5间\n",
    "c1=Counter(data)#将序列传入Couner的构造器，得到Counter对象是元素频度的字典。\n",
    "print(c1)#Counter({3: 3, 5: 2, 2: 2, 0: 2, 4: 1})\n",
    "print(c1[4])#随机数4出现的次数为1\n",
    "print(c1.most_common(3))#排名前三的数据[(3, 3), (5, 2), (2, 2)]\n"
   ]
  },
  {
   "cell_type": "code",
   "execution_count": 55,
   "metadata": {},
   "outputs": [
    {
     "name": "stdout",
     "output_type": "stream",
     "text": [
      "Hooray! It's snowing! It's time to make a snowman.James runs out. He makes a big pile of snow. He puts a big snowball on top. He adds a scarf and a hat. He adds an orange for the nose. He adds coal for the eyes and buttons.In the evening, James opens the door. What does he see? The snowman is moving! James invites him in. The snowman has never been inside a house. He says hello to the cat. He plays with paper towels.A moment later, the snowman takes James's hand and goes out.They go up, up, up into the air! They are flying! What a wonderful night!The next morning, James jumps out of bed. He runs to the door.He wants to thank the snowman. But he's gone.\n"
     ]
    }
   ],
   "source": [
    "#实例2\n",
    "from collections import Counter\n",
    "import re\n",
    "# import os\n",
    "# os.getcwd()\n",
    "\n",
    "data=open('./素材/英文文章.txt').read()\n",
    "print(data)\n"
   ]
  },
  {
   "cell_type": "code",
   "execution_count": 56,
   "metadata": {},
   "outputs": [
    {
     "name": "stdout",
     "output_type": "stream",
     "text": [
      "Counter({'He': 9, 'the': 9, 'a': 7, 'snowman': 5, 'James': 5, 's': 4, 'to': 4, 'out': 3, 'adds': 3, 'and': 3, 'The': 3, 'up': 3, 'It': 2, 'runs': 2, 'big': 2, 'of': 2, 'for': 2, 'door': 2, 'What': 2, 'he': 2, 'They': 2, 'Hooray': 1, 'snowing': 1, 'time': 1, 'make': 1, 'makes': 1, 'pile': 1, 'snow': 1, 'puts': 1, 'snowball': 1, 'on': 1, 'top': 1, 'scarf': 1, 'hat': 1, 'an': 1, 'orange': 1, 'nose': 1, 'coal': 1, 'eyes': 1, 'buttons': 1, 'In': 1, 'evening': 1, 'opens': 1, 'does': 1, 'see': 1, 'is': 1, 'moving': 1, 'invites': 1, 'him': 1, 'in': 1, 'has': 1, 'never': 1, 'been': 1, 'inside': 1, 'house': 1, 'says': 1, 'hello': 1, 'cat': 1, 'plays': 1, 'with': 1, 'paper': 1, 'towels': 1, 'A': 1, 'moment': 1, 'later': 1, 'takes': 1, 'hand': 1, 'goes': 1, 'go': 1, 'into': 1, 'air': 1, 'are': 1, 'flying': 1, 'wonderful': 1, 'night': 1, 'next': 1, 'morning': 1, 'jumps': 1, 'bed': 1, 'wants': 1, 'thank': 1, 'But': 1, 'gone': 1, '': 1})\n",
      "[('He', 9), ('the', 9), ('a', 7)]\n"
     ]
    }
   ],
   "source": [
    "words=re.split(r'\\W+',data) #'\\W':匹配非[A-Za-z0-9] '+'匹配前一个字符0此或多次\n",
    "# print(words)['Hooray', 'It', 's', 'snowing', 'It', 's', 'time',......]\n",
    "c2=Counter(words)\n",
    "print(c2)\n",
    "print(c2.most_common(3))#[('He', 9), ('the', 9), ('a', 7)]"
   ]
  },
  {
   "cell_type": "code",
   "execution_count": 57,
   "metadata": {},
   "outputs": [
    {
     "name": "stdout",
     "output_type": "stream",
     "text": [
      "Hooray:1  It:2  s:4  snowing:1  time:1  to:4  make:1  a:7  snowman:5  James:5  runs:2  out:3  He:9  makes:1  big:2  pile:1  of:2  snow:1  puts:1  snowball:1  on:1  top:1  adds:3  scarf:1  and:3  hat:1  an:1  orange:1  for:2  the:9  nose:1  coal:1  eyes:1  buttons:1  In:1  evening:1  opens:1  door:2  What:2  does:1  he:2  see:1  The:3  is:1  moving:1  invites:1  him:1  in:1  has:1  never:1  been:1  inside:1  house:1  says:1  hello:1  cat:1  plays:1  with:1  paper:1  towels:1  A:1  moment:1  later:1  takes:1  hand:1  goes:1  They:2  go:1  up:3  into:1  air:1  are:1  flying:1  wonderful:1  night:1  next:1  morning:1  jumps:1  bed:1  wants:1  thank:1  But:1  gone:1  :1  "
     ]
    }
   ],
   "source": [
    "for k in c2:\n",
    "    print('{}:{}'.format(k,str(c2[k])),end='  ')"
   ]
  },
  {
   "cell_type": "code",
   "execution_count": 58,
   "metadata": {},
   "outputs": [
    {
     "name": "stdout",
     "output_type": "stream",
     "text": [
      "Hooray:1  It:2  s:4  snowing:1  time:1  to:4  make:1  a:7  snowman:5  James:5  runs:2  out:3  He:9  makes:1  big:2  pile:1  of:2  snow:1  puts:1  snowball:1  on:1  top:1  adds:3  scarf:1  and:3  hat:1  an:1  orange:1  for:2  the:9  nose:1  coal:1  eyes:1  buttons:1  In:1  evening:1  opens:1  door:2  What:2  does:1  he:2  see:1  The:3  is:1  moving:1  invites:1  him:1  in:1  has:1  never:1  been:1  inside:1  house:1  says:1  hello:1  cat:1  plays:1  with:1  paper:1  towels:1  A:1  moment:1  later:1  takes:1  hand:1  goes:1  They:2  go:1  up:3  into:1  air:1  are:1  flying:1  wonderful:1  night:1  next:1  morning:1  jumps:1  bed:1  wants:1  thank:1  But:1  gone:1  :1  "
     ]
    }
   ],
   "source": [
    "for k,v in c2.items():\n",
    "    print('{}:{}'.format(k,v),end='  ')"
   ]
  },
  {
   "cell_type": "code",
   "execution_count": null,
   "metadata": {},
   "outputs": [],
   "source": []
  },
  {
   "cell_type": "code",
   "execution_count": null,
   "metadata": {},
   "outputs": [],
   "source": []
  },
  {
   "cell_type": "code",
   "execution_count": null,
   "metadata": {},
   "outputs": [],
   "source": []
  },
  {
   "cell_type": "code",
   "execution_count": null,
   "metadata": {},
   "outputs": [],
   "source": []
  },
  {
   "cell_type": "code",
   "execution_count": null,
   "metadata": {},
   "outputs": [],
   "source": []
  }
 ],
 "metadata": {
  "kernelspec": {
   "display_name": "Python 3",
   "language": "python",
   "name": "python3"
  },
  "language_info": {
   "codemirror_mode": {
    "name": "ipython",
    "version": 3
   },
   "file_extension": ".py",
   "mimetype": "text/x-python",
   "name": "python",
   "nbconvert_exporter": "python",
   "pygments_lexer": "ipython3",
   "version": "3.7.6"
  }
 },
 "nbformat": 4,
 "nbformat_minor": 4
}
